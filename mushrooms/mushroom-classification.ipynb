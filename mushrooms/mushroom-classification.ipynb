{
 "cells": [
  {
   "attachments": {},
   "cell_type": "markdown",
   "metadata": {},
   "source": [
    "## Mushroom Attributes\n",
    "![mushrooms](\\images\\dataset-cover.jpg)"
   ]
  },
  {
   "attachments": {},
   "cell_type": "markdown",
   "metadata": {},
   "source": [
    "Dataset describes mushrooms by physical characteristics and are classified as either poisonous or edible. This model predicts classification given new input."
   ]
  },
  {
   "attachments": {},
   "cell_type": "markdown",
   "metadata": {},
   "source": [
    "#### Imports"
   ]
  },
  {
   "cell_type": "code",
   "execution_count": 197,
   "metadata": {},
   "outputs": [
    {
     "name": "stdout",
     "output_type": "stream",
     "text": [
      "2.6.0\n"
     ]
    }
   ],
   "source": [
    "import numpy as np\n",
    "import pandas as pd\n",
    "import matplotlib.pyplot as plt\n",
    "import tensorflow as tf\n",
    "from sklearn.model_selection import train_test_split\n",
    "from sklearn.preprocessing import OneHotEncoder\n",
    "\n",
    "print(tf.__version__)"
   ]
  },
  {
   "attachments": {},
   "cell_type": "markdown",
   "metadata": {},
   "source": [
    "#### Pre-processing"
   ]
  },
  {
   "attachments": {},
   "cell_type": "markdown",
   "metadata": {},
   "source": [
    "Inspecting data"
   ]
  },
  {
   "cell_type": "code",
   "execution_count": 198,
   "metadata": {},
   "outputs": [
    {
     "data": {
      "text/html": [
       "<div>\n",
       "<style scoped>\n",
       "    .dataframe tbody tr th:only-of-type {\n",
       "        vertical-align: middle;\n",
       "    }\n",
       "\n",
       "    .dataframe tbody tr th {\n",
       "        vertical-align: top;\n",
       "    }\n",
       "\n",
       "    .dataframe thead th {\n",
       "        text-align: right;\n",
       "    }\n",
       "</style>\n",
       "<table border=\"1\" class=\"dataframe\">\n",
       "  <thead>\n",
       "    <tr style=\"text-align: right;\">\n",
       "      <th></th>\n",
       "      <th>cap-shape</th>\n",
       "      <th>cap-surface</th>\n",
       "      <th>cap-color</th>\n",
       "      <th>bruises%3F</th>\n",
       "      <th>odor</th>\n",
       "      <th>gill-attachment</th>\n",
       "      <th>gill-spacing</th>\n",
       "      <th>gill-size</th>\n",
       "      <th>gill-color</th>\n",
       "      <th>stalk-shape</th>\n",
       "      <th>...</th>\n",
       "      <th>stalk-color-above-ring</th>\n",
       "      <th>stalk-color-below-ring</th>\n",
       "      <th>veil-type</th>\n",
       "      <th>veil-color</th>\n",
       "      <th>ring-number</th>\n",
       "      <th>ring-type</th>\n",
       "      <th>spore-print-color</th>\n",
       "      <th>population</th>\n",
       "      <th>habitat</th>\n",
       "      <th>class</th>\n",
       "    </tr>\n",
       "  </thead>\n",
       "  <tbody>\n",
       "    <tr>\n",
       "      <th>0</th>\n",
       "      <td>b'x'</td>\n",
       "      <td>b's'</td>\n",
       "      <td>b'n'</td>\n",
       "      <td>b't'</td>\n",
       "      <td>b'p'</td>\n",
       "      <td>b'f'</td>\n",
       "      <td>b'c'</td>\n",
       "      <td>b'n'</td>\n",
       "      <td>b'k'</td>\n",
       "      <td>b'e'</td>\n",
       "      <td>...</td>\n",
       "      <td>b'w'</td>\n",
       "      <td>b'w'</td>\n",
       "      <td>b'p'</td>\n",
       "      <td>b'w'</td>\n",
       "      <td>b'o'</td>\n",
       "      <td>b'p'</td>\n",
       "      <td>b'k'</td>\n",
       "      <td>b's'</td>\n",
       "      <td>b'u'</td>\n",
       "      <td>b'p'</td>\n",
       "    </tr>\n",
       "    <tr>\n",
       "      <th>1</th>\n",
       "      <td>b'x'</td>\n",
       "      <td>b's'</td>\n",
       "      <td>b'y'</td>\n",
       "      <td>b't'</td>\n",
       "      <td>b'a'</td>\n",
       "      <td>b'f'</td>\n",
       "      <td>b'c'</td>\n",
       "      <td>b'b'</td>\n",
       "      <td>b'k'</td>\n",
       "      <td>b'e'</td>\n",
       "      <td>...</td>\n",
       "      <td>b'w'</td>\n",
       "      <td>b'w'</td>\n",
       "      <td>b'p'</td>\n",
       "      <td>b'w'</td>\n",
       "      <td>b'o'</td>\n",
       "      <td>b'p'</td>\n",
       "      <td>b'n'</td>\n",
       "      <td>b'n'</td>\n",
       "      <td>b'g'</td>\n",
       "      <td>b'e'</td>\n",
       "    </tr>\n",
       "    <tr>\n",
       "      <th>2</th>\n",
       "      <td>b'b'</td>\n",
       "      <td>b's'</td>\n",
       "      <td>b'w'</td>\n",
       "      <td>b't'</td>\n",
       "      <td>b'l'</td>\n",
       "      <td>b'f'</td>\n",
       "      <td>b'c'</td>\n",
       "      <td>b'b'</td>\n",
       "      <td>b'n'</td>\n",
       "      <td>b'e'</td>\n",
       "      <td>...</td>\n",
       "      <td>b'w'</td>\n",
       "      <td>b'w'</td>\n",
       "      <td>b'p'</td>\n",
       "      <td>b'w'</td>\n",
       "      <td>b'o'</td>\n",
       "      <td>b'p'</td>\n",
       "      <td>b'n'</td>\n",
       "      <td>b'n'</td>\n",
       "      <td>b'm'</td>\n",
       "      <td>b'e'</td>\n",
       "    </tr>\n",
       "    <tr>\n",
       "      <th>3</th>\n",
       "      <td>b'x'</td>\n",
       "      <td>b'y'</td>\n",
       "      <td>b'w'</td>\n",
       "      <td>b't'</td>\n",
       "      <td>b'p'</td>\n",
       "      <td>b'f'</td>\n",
       "      <td>b'c'</td>\n",
       "      <td>b'n'</td>\n",
       "      <td>b'n'</td>\n",
       "      <td>b'e'</td>\n",
       "      <td>...</td>\n",
       "      <td>b'w'</td>\n",
       "      <td>b'w'</td>\n",
       "      <td>b'p'</td>\n",
       "      <td>b'w'</td>\n",
       "      <td>b'o'</td>\n",
       "      <td>b'p'</td>\n",
       "      <td>b'k'</td>\n",
       "      <td>b's'</td>\n",
       "      <td>b'u'</td>\n",
       "      <td>b'p'</td>\n",
       "    </tr>\n",
       "    <tr>\n",
       "      <th>4</th>\n",
       "      <td>b'x'</td>\n",
       "      <td>b's'</td>\n",
       "      <td>b'g'</td>\n",
       "      <td>b'f'</td>\n",
       "      <td>b'n'</td>\n",
       "      <td>b'f'</td>\n",
       "      <td>b'w'</td>\n",
       "      <td>b'b'</td>\n",
       "      <td>b'k'</td>\n",
       "      <td>b't'</td>\n",
       "      <td>...</td>\n",
       "      <td>b'w'</td>\n",
       "      <td>b'w'</td>\n",
       "      <td>b'p'</td>\n",
       "      <td>b'w'</td>\n",
       "      <td>b'o'</td>\n",
       "      <td>b'e'</td>\n",
       "      <td>b'n'</td>\n",
       "      <td>b'a'</td>\n",
       "      <td>b'g'</td>\n",
       "      <td>b'e'</td>\n",
       "    </tr>\n",
       "  </tbody>\n",
       "</table>\n",
       "<p>5 rows × 23 columns</p>\n",
       "</div>"
      ],
      "text/plain": [
       "  cap-shape cap-surface cap-color bruises%3F  odor gill-attachment  \\\n",
       "0      b'x'        b's'      b'n'       b't'  b'p'            b'f'   \n",
       "1      b'x'        b's'      b'y'       b't'  b'a'            b'f'   \n",
       "2      b'b'        b's'      b'w'       b't'  b'l'            b'f'   \n",
       "3      b'x'        b'y'      b'w'       b't'  b'p'            b'f'   \n",
       "4      b'x'        b's'      b'g'       b'f'  b'n'            b'f'   \n",
       "\n",
       "  gill-spacing gill-size gill-color stalk-shape  ... stalk-color-above-ring  \\\n",
       "0         b'c'      b'n'       b'k'        b'e'  ...                   b'w'   \n",
       "1         b'c'      b'b'       b'k'        b'e'  ...                   b'w'   \n",
       "2         b'c'      b'b'       b'n'        b'e'  ...                   b'w'   \n",
       "3         b'c'      b'n'       b'n'        b'e'  ...                   b'w'   \n",
       "4         b'w'      b'b'       b'k'        b't'  ...                   b'w'   \n",
       "\n",
       "  stalk-color-below-ring veil-type veil-color ring-number ring-type  \\\n",
       "0                   b'w'      b'p'       b'w'        b'o'      b'p'   \n",
       "1                   b'w'      b'p'       b'w'        b'o'      b'p'   \n",
       "2                   b'w'      b'p'       b'w'        b'o'      b'p'   \n",
       "3                   b'w'      b'p'       b'w'        b'o'      b'p'   \n",
       "4                   b'w'      b'p'       b'w'        b'o'      b'e'   \n",
       "\n",
       "  spore-print-color population habitat class  \n",
       "0              b'k'       b's'    b'u'  b'p'  \n",
       "1              b'n'       b'n'    b'g'  b'e'  \n",
       "2              b'n'       b'n'    b'm'  b'e'  \n",
       "3              b'k'       b's'    b'u'  b'p'  \n",
       "4              b'n'       b'a'    b'g'  b'e'  \n",
       "\n",
       "[5 rows x 23 columns]"
      ]
     },
     "execution_count": 198,
     "metadata": {},
     "output_type": "execute_result"
    }
   ],
   "source": [
    "df = pd.read_csv(\"mushroom.csv\")\n",
    "df.head()"
   ]
  },
  {
   "cell_type": "code",
   "execution_count": 199,
   "metadata": {},
   "outputs": [
    {
     "data": {
      "text/plain": [
       "(8124, 23)"
      ]
     },
     "execution_count": 199,
     "metadata": {},
     "output_type": "execute_result"
    }
   ],
   "source": [
    "df.shape"
   ]
  },
  {
   "cell_type": "code",
   "execution_count": 200,
   "metadata": {},
   "outputs": [],
   "source": [
    "column_names = df.columns.tolist()"
   ]
  },
  {
   "attachments": {},
   "cell_type": "markdown",
   "metadata": {},
   "source": [
    "Creating a dictionary of the cardinality of each category to check if one-hot encoding is viable for each column."
   ]
  },
  {
   "cell_type": "code",
   "execution_count": 201,
   "metadata": {},
   "outputs": [],
   "source": [
    "object_nunique = list(map(lambda col: df[col].nunique(), column_names))\n",
    "d = dict(zip(column_names, object_nunique))"
   ]
  },
  {
   "attachments": {},
   "cell_type": "markdown",
   "metadata": {},
   "source": [
    "The maximum cardinality for the columns is 'gill-color' with 12 different categories. All mushrooms in dataset have only one veil-type so removing that column."
   ]
  },
  {
   "cell_type": "code",
   "execution_count": 202,
   "metadata": {},
   "outputs": [
    {
     "data": {
      "text/plain": [
       "[('veil-type', 1),\n",
       " ('bruises%3F', 2),\n",
       " ('gill-attachment', 2),\n",
       " ('gill-spacing', 2),\n",
       " ('gill-size', 2),\n",
       " ('stalk-shape', 2),\n",
       " ('class', 2),\n",
       " ('ring-number', 3),\n",
       " ('cap-surface', 4),\n",
       " ('stalk-surface-above-ring', 4),\n",
       " ('stalk-surface-below-ring', 4),\n",
       " ('veil-color', 4),\n",
       " ('stalk-root', 5),\n",
       " ('ring-type', 5),\n",
       " ('cap-shape', 6),\n",
       " ('population', 6),\n",
       " ('habitat', 7),\n",
       " ('odor', 9),\n",
       " ('stalk-color-above-ring', 9),\n",
       " ('stalk-color-below-ring', 9),\n",
       " ('spore-print-color', 9),\n",
       " ('cap-color', 10),\n",
       " ('gill-color', 12)]"
      ]
     },
     "execution_count": 202,
     "metadata": {},
     "output_type": "execute_result"
    }
   ],
   "source": [
    "sorted(d.items(), key=lambda x: x[1])"
   ]
  },
  {
   "cell_type": "code",
   "execution_count": 203,
   "metadata": {},
   "outputs": [],
   "source": [
    "df.drop(\"veil-type\", axis=1, inplace=True)"
   ]
  },
  {
   "attachments": {},
   "cell_type": "markdown",
   "metadata": {},
   "source": [
    "Splitting training and testing data."
   ]
  },
  {
   "cell_type": "code",
   "execution_count": 204,
   "metadata": {},
   "outputs": [],
   "source": [
    "df_train, df_test = train_test_split(df, test_size=0.2, random_state=1)"
   ]
  },
  {
   "attachments": {},
   "cell_type": "markdown",
   "metadata": {},
   "source": [
    "Setting target value to \"class\". 0 denotes edible and 1 denotes poisonous."
   ]
  },
  {
   "cell_type": "code",
   "execution_count": 205,
   "metadata": {},
   "outputs": [],
   "source": [
    "y_train = df_train.pop(\"class\")\n",
    "y_test = df_test.pop(\"class\")\n",
    "y_train = y_train.replace({\"b'p'\": 0, \"b'e'\": 1})\n",
    "y_test = y_test.replace({\"b'p'\": 0, \"b'e'\": 1})\n",
    "X_train = df_train\n",
    "X_test = df_test"
   ]
  },
  {
   "attachments": {},
   "cell_type": "markdown",
   "metadata": {},
   "source": [
    "One-hot encoding for all columns. This should increase the dataset to 116 columns. Hopefully this isn't too high."
   ]
  },
  {
   "cell_type": "code",
   "execution_count": 206,
   "metadata": {},
   "outputs": [],
   "source": [
    "# Get list of columns - In this dataset, all columns are categorical so no extra steps needed\n",
    "cols = X_train.columns.tolist()\n",
    "\n",
    "# Applying one-hot encoding to training and testing sets\n",
    "encoder = OneHotEncoder(handle_unknown='ignore', sparse_output=False)\n",
    "encoded_X_train = pd.DataFrame(encoder.fit_transform(X_train[cols]))\n",
    "encoded_X_test = pd.DataFrame(encoder.transform(X_test[cols]))"
   ]
  },
  {
   "cell_type": "code",
   "execution_count": 207,
   "metadata": {},
   "outputs": [
    {
     "data": {
      "text/plain": [
       "(6499, 116)"
      ]
     },
     "execution_count": 207,
     "metadata": {},
     "output_type": "execute_result"
    }
   ],
   "source": [
    "encoded_X_train.shape"
   ]
  },
  {
   "cell_type": "code",
   "execution_count": 208,
   "metadata": {},
   "outputs": [
    {
     "data": {
      "text/plain": [
       "(1625, 116)"
      ]
     },
     "execution_count": 208,
     "metadata": {},
     "output_type": "execute_result"
    }
   ],
   "source": [
    "encoded_X_test.shape"
   ]
  },
  {
   "attachments": {},
   "cell_type": "markdown",
   "metadata": {},
   "source": [
    "I think the data should be ready now. I will be using an XGBoostClassifier model."
   ]
  },
  {
   "attachments": {},
   "cell_type": "markdown",
   "metadata": {},
   "source": [
    "#### XGBoostClassifier Model - All data"
   ]
  },
  {
   "cell_type": "code",
   "execution_count": 209,
   "metadata": {},
   "outputs": [],
   "source": [
    "from xgboost import XGBClassifier"
   ]
  },
  {
   "cell_type": "code",
   "execution_count": 210,
   "metadata": {},
   "outputs": [],
   "source": [
    "xgb = XGBClassifier(n_estimators=500, learning_rate=0.01, max_depth=4, random_state=1)"
   ]
  },
  {
   "cell_type": "code",
   "execution_count": 211,
   "metadata": {},
   "outputs": [
    {
     "data": {
      "text/html": [
       "<style>#sk-container-id-23 {color: black;background-color: white;}#sk-container-id-23 pre{padding: 0;}#sk-container-id-23 div.sk-toggleable {background-color: white;}#sk-container-id-23 label.sk-toggleable__label {cursor: pointer;display: block;width: 100%;margin-bottom: 0;padding: 0.3em;box-sizing: border-box;text-align: center;}#sk-container-id-23 label.sk-toggleable__label-arrow:before {content: \"▸\";float: left;margin-right: 0.25em;color: #696969;}#sk-container-id-23 label.sk-toggleable__label-arrow:hover:before {color: black;}#sk-container-id-23 div.sk-estimator:hover label.sk-toggleable__label-arrow:before {color: black;}#sk-container-id-23 div.sk-toggleable__content {max-height: 0;max-width: 0;overflow: hidden;text-align: left;background-color: #f0f8ff;}#sk-container-id-23 div.sk-toggleable__content pre {margin: 0.2em;color: black;border-radius: 0.25em;background-color: #f0f8ff;}#sk-container-id-23 input.sk-toggleable__control:checked~div.sk-toggleable__content {max-height: 200px;max-width: 100%;overflow: auto;}#sk-container-id-23 input.sk-toggleable__control:checked~label.sk-toggleable__label-arrow:before {content: \"▾\";}#sk-container-id-23 div.sk-estimator input.sk-toggleable__control:checked~label.sk-toggleable__label {background-color: #d4ebff;}#sk-container-id-23 div.sk-label input.sk-toggleable__control:checked~label.sk-toggleable__label {background-color: #d4ebff;}#sk-container-id-23 input.sk-hidden--visually {border: 0;clip: rect(1px 1px 1px 1px);clip: rect(1px, 1px, 1px, 1px);height: 1px;margin: -1px;overflow: hidden;padding: 0;position: absolute;width: 1px;}#sk-container-id-23 div.sk-estimator {font-family: monospace;background-color: #f0f8ff;border: 1px dotted black;border-radius: 0.25em;box-sizing: border-box;margin-bottom: 0.5em;}#sk-container-id-23 div.sk-estimator:hover {background-color: #d4ebff;}#sk-container-id-23 div.sk-parallel-item::after {content: \"\";width: 100%;border-bottom: 1px solid gray;flex-grow: 1;}#sk-container-id-23 div.sk-label:hover label.sk-toggleable__label {background-color: #d4ebff;}#sk-container-id-23 div.sk-serial::before {content: \"\";position: absolute;border-left: 1px solid gray;box-sizing: border-box;top: 0;bottom: 0;left: 50%;z-index: 0;}#sk-container-id-23 div.sk-serial {display: flex;flex-direction: column;align-items: center;background-color: white;padding-right: 0.2em;padding-left: 0.2em;position: relative;}#sk-container-id-23 div.sk-item {position: relative;z-index: 1;}#sk-container-id-23 div.sk-parallel {display: flex;align-items: stretch;justify-content: center;background-color: white;position: relative;}#sk-container-id-23 div.sk-item::before, #sk-container-id-23 div.sk-parallel-item::before {content: \"\";position: absolute;border-left: 1px solid gray;box-sizing: border-box;top: 0;bottom: 0;left: 50%;z-index: -1;}#sk-container-id-23 div.sk-parallel-item {display: flex;flex-direction: column;z-index: 1;position: relative;background-color: white;}#sk-container-id-23 div.sk-parallel-item:first-child::after {align-self: flex-end;width: 50%;}#sk-container-id-23 div.sk-parallel-item:last-child::after {align-self: flex-start;width: 50%;}#sk-container-id-23 div.sk-parallel-item:only-child::after {width: 0;}#sk-container-id-23 div.sk-dashed-wrapped {border: 1px dashed gray;margin: 0 0.4em 0.5em 0.4em;box-sizing: border-box;padding-bottom: 0.4em;background-color: white;}#sk-container-id-23 div.sk-label label {font-family: monospace;font-weight: bold;display: inline-block;line-height: 1.2em;}#sk-container-id-23 div.sk-label-container {text-align: center;}#sk-container-id-23 div.sk-container {/* jupyter's `normalize.less` sets `[hidden] { display: none; }` but bootstrap.min.css set `[hidden] { display: none !important; }` so we also need the `!important` here to be able to override the default hidden behavior on the sphinx rendered scikit-learn.org. See: https://github.com/scikit-learn/scikit-learn/issues/21755 */display: inline-block !important;position: relative;}#sk-container-id-23 div.sk-text-repr-fallback {display: none;}</style><div id=\"sk-container-id-23\" class=\"sk-top-container\"><div class=\"sk-text-repr-fallback\"><pre>XGBClassifier(base_score=None, booster=None, callbacks=None,\n",
       "              colsample_bylevel=None, colsample_bynode=None,\n",
       "              colsample_bytree=None, early_stopping_rounds=None,\n",
       "              enable_categorical=False, eval_metric=None, feature_types=None,\n",
       "              gamma=None, gpu_id=None, grow_policy=None, importance_type=None,\n",
       "              interaction_constraints=None, learning_rate=0.01, max_bin=None,\n",
       "              max_cat_threshold=None, max_cat_to_onehot=None,\n",
       "              max_delta_step=None, max_depth=4, max_leaves=None,\n",
       "              min_child_weight=None, missing=nan, monotone_constraints=None,\n",
       "              n_estimators=500, n_jobs=None, num_parallel_tree=None,\n",
       "              predictor=None, random_state=1, ...)</pre><b>In a Jupyter environment, please rerun this cell to show the HTML representation or trust the notebook. <br />On GitHub, the HTML representation is unable to render, please try loading this page with nbviewer.org.</b></div><div class=\"sk-container\" hidden><div class=\"sk-item\"><div class=\"sk-estimator sk-toggleable\"><input class=\"sk-toggleable__control sk-hidden--visually\" id=\"sk-estimator-id-23\" type=\"checkbox\" checked><label for=\"sk-estimator-id-23\" class=\"sk-toggleable__label sk-toggleable__label-arrow\">XGBClassifier</label><div class=\"sk-toggleable__content\"><pre>XGBClassifier(base_score=None, booster=None, callbacks=None,\n",
       "              colsample_bylevel=None, colsample_bynode=None,\n",
       "              colsample_bytree=None, early_stopping_rounds=None,\n",
       "              enable_categorical=False, eval_metric=None, feature_types=None,\n",
       "              gamma=None, gpu_id=None, grow_policy=None, importance_type=None,\n",
       "              interaction_constraints=None, learning_rate=0.01, max_bin=None,\n",
       "              max_cat_threshold=None, max_cat_to_onehot=None,\n",
       "              max_delta_step=None, max_depth=4, max_leaves=None,\n",
       "              min_child_weight=None, missing=nan, monotone_constraints=None,\n",
       "              n_estimators=500, n_jobs=None, num_parallel_tree=None,\n",
       "              predictor=None, random_state=1, ...)</pre></div></div></div></div></div>"
      ],
      "text/plain": [
       "XGBClassifier(base_score=None, booster=None, callbacks=None,\n",
       "              colsample_bylevel=None, colsample_bynode=None,\n",
       "              colsample_bytree=None, early_stopping_rounds=None,\n",
       "              enable_categorical=False, eval_metric=None, feature_types=None,\n",
       "              gamma=None, gpu_id=None, grow_policy=None, importance_type=None,\n",
       "              interaction_constraints=None, learning_rate=0.01, max_bin=None,\n",
       "              max_cat_threshold=None, max_cat_to_onehot=None,\n",
       "              max_delta_step=None, max_depth=4, max_leaves=None,\n",
       "              min_child_weight=None, missing=nan, monotone_constraints=None,\n",
       "              n_estimators=500, n_jobs=None, num_parallel_tree=None,\n",
       "              predictor=None, random_state=1, ...)"
      ]
     },
     "execution_count": 211,
     "metadata": {},
     "output_type": "execute_result"
    }
   ],
   "source": [
    "xgb.fit(encoded_X_train, y_train)"
   ]
  },
  {
   "cell_type": "code",
   "execution_count": 212,
   "metadata": {},
   "outputs": [],
   "source": [
    "y_pred = xgb.predict(encoded_X_test)"
   ]
  },
  {
   "cell_type": "code",
   "execution_count": 213,
   "metadata": {},
   "outputs": [],
   "source": [
    "from sklearn.metrics import accuracy_score"
   ]
  },
  {
   "cell_type": "code",
   "execution_count": 214,
   "metadata": {},
   "outputs": [
    {
     "name": "stdout",
     "output_type": "stream",
     "text": [
      "Accuracy: 0.9969230769230769\n"
     ]
    }
   ],
   "source": [
    "accuracy = accuracy_score(y_pred, y_test)\n",
    "print(f\"Accuracy: {accuracy}\")"
   ]
  },
  {
   "attachments": {},
   "cell_type": "markdown",
   "metadata": {},
   "source": [
    "I believe that the model is overfitting. Adjusting the parameters of the XGBClassifier does not decrease the accuracy by much. Therefore, I am going to recreate the model using less features to see if that aids the problem."
   ]
  },
  {
   "attachments": {},
   "cell_type": "markdown",
   "metadata": {},
   "source": [
    "#### XGBoostClassifier Model - Reduced features"
   ]
  },
  {
   "cell_type": "code",
   "execution_count": 215,
   "metadata": {},
   "outputs": [
    {
     "data": {
      "text/html": [
       "<div>\n",
       "<style scoped>\n",
       "    .dataframe tbody tr th:only-of-type {\n",
       "        vertical-align: middle;\n",
       "    }\n",
       "\n",
       "    .dataframe tbody tr th {\n",
       "        vertical-align: top;\n",
       "    }\n",
       "\n",
       "    .dataframe thead th {\n",
       "        text-align: right;\n",
       "    }\n",
       "</style>\n",
       "<table border=\"1\" class=\"dataframe\">\n",
       "  <thead>\n",
       "    <tr style=\"text-align: right;\">\n",
       "      <th></th>\n",
       "      <th>cap-shape</th>\n",
       "      <th>cap-surface</th>\n",
       "      <th>cap-color</th>\n",
       "      <th>gill-size</th>\n",
       "      <th>stalk-shape</th>\n",
       "      <th>stalk-root</th>\n",
       "      <th>class</th>\n",
       "    </tr>\n",
       "  </thead>\n",
       "  <tbody>\n",
       "    <tr>\n",
       "      <th>0</th>\n",
       "      <td>b'x'</td>\n",
       "      <td>b's'</td>\n",
       "      <td>b'n'</td>\n",
       "      <td>b'n'</td>\n",
       "      <td>b'e'</td>\n",
       "      <td>b'e'</td>\n",
       "      <td>b'p'</td>\n",
       "    </tr>\n",
       "    <tr>\n",
       "      <th>1</th>\n",
       "      <td>b'x'</td>\n",
       "      <td>b's'</td>\n",
       "      <td>b'y'</td>\n",
       "      <td>b'b'</td>\n",
       "      <td>b'e'</td>\n",
       "      <td>b'c'</td>\n",
       "      <td>b'e'</td>\n",
       "    </tr>\n",
       "    <tr>\n",
       "      <th>2</th>\n",
       "      <td>b'b'</td>\n",
       "      <td>b's'</td>\n",
       "      <td>b'w'</td>\n",
       "      <td>b'b'</td>\n",
       "      <td>b'e'</td>\n",
       "      <td>b'c'</td>\n",
       "      <td>b'e'</td>\n",
       "    </tr>\n",
       "    <tr>\n",
       "      <th>3</th>\n",
       "      <td>b'x'</td>\n",
       "      <td>b'y'</td>\n",
       "      <td>b'w'</td>\n",
       "      <td>b'n'</td>\n",
       "      <td>b'e'</td>\n",
       "      <td>b'e'</td>\n",
       "      <td>b'p'</td>\n",
       "    </tr>\n",
       "    <tr>\n",
       "      <th>4</th>\n",
       "      <td>b'x'</td>\n",
       "      <td>b's'</td>\n",
       "      <td>b'g'</td>\n",
       "      <td>b'b'</td>\n",
       "      <td>b't'</td>\n",
       "      <td>b'e'</td>\n",
       "      <td>b'e'</td>\n",
       "    </tr>\n",
       "  </tbody>\n",
       "</table>\n",
       "</div>"
      ],
      "text/plain": [
       "  cap-shape cap-surface cap-color gill-size stalk-shape stalk-root class\n",
       "0      b'x'        b's'      b'n'      b'n'        b'e'       b'e'  b'p'\n",
       "1      b'x'        b's'      b'y'      b'b'        b'e'       b'c'  b'e'\n",
       "2      b'b'        b's'      b'w'      b'b'        b'e'       b'c'  b'e'\n",
       "3      b'x'        b'y'      b'w'      b'n'        b'e'       b'e'  b'p'\n",
       "4      b'x'        b's'      b'g'      b'b'        b't'       b'e'  b'e'"
      ]
     },
     "execution_count": 215,
     "metadata": {},
     "output_type": "execute_result"
    }
   ],
   "source": [
    "df = pd.read_csv(\"mushroom.csv\")\n",
    "features = [\"cap-shape\", \"cap-surface\", \"cap-color\", \"gill-size\", \"stalk-shape\", \"stalk-root\"]\n",
    "target = [\"class\"]\n",
    "df = df.loc[:, features + target]\n",
    "df.head()"
   ]
  },
  {
   "cell_type": "code",
   "execution_count": 216,
   "metadata": {},
   "outputs": [],
   "source": [
    "df_train, df_test = train_test_split(df, test_size=0.2, random_state=1)\n",
    "y_train = df_train.pop(\"class\")\n",
    "y_test = df_test.pop(\"class\")\n",
    "y_train = y_train.replace({\"b'p'\": 0, \"b'e'\": 1})\n",
    "y_test = y_test.replace({\"b'p'\": 0, \"b'e'\": 1})\n",
    "X_train = df_train\n",
    "X_test = df_test"
   ]
  },
  {
   "cell_type": "code",
   "execution_count": 217,
   "metadata": {},
   "outputs": [],
   "source": [
    "cols = X_train.columns.tolist()\n",
    "encoder = OneHotEncoder(handle_unknown='ignore', sparse_output=False)\n",
    "encoded_X_train = pd.DataFrame(encoder.fit_transform(X_train[cols]))\n",
    "encoded_X_test = pd.DataFrame(encoder.transform(X_test[cols]))"
   ]
  },
  {
   "cell_type": "code",
   "execution_count": 218,
   "metadata": {},
   "outputs": [
    {
     "name": "stdout",
     "output_type": "stream",
     "text": [
      "Accuracy: 0.9981538461538462\n"
     ]
    }
   ],
   "source": [
    "xgb = XGBClassifier(n_estimators=500, learning_rate=0.05, max_depth=4, random_state=1)\n",
    "xgb.fit(encoded_X_train, y_train)\n",
    "y_pred = xgb.predict(encoded_X_test)\n",
    "accuracy = accuracy_score(y_pred, y_test)\n",
    "print(f\"Accuracy: {accuracy}\")"
   ]
  },
  {
   "attachments": {},
   "cell_type": "markdown",
   "metadata": {},
   "source": [
    "Again, tried many different parameters here and all yielded about the same result. Maybe mushroom classification is just simple, but I'm a beginner so I doubt the high accuracy. I'm submitting this one as is but I'd like to hear anyone's feedback on how to improve the model if possible."
   ]
  }
 ],
 "metadata": {
  "kernelspec": {
   "display_name": "tf",
   "language": "python",
   "name": "python3"
  },
  "language_info": {
   "codemirror_mode": {
    "name": "ipython",
    "version": 3
   },
   "file_extension": ".py",
   "mimetype": "text/x-python",
   "name": "python",
   "nbconvert_exporter": "python",
   "pygments_lexer": "ipython3",
   "version": "3.9.16"
  },
  "orig_nbformat": 4
 },
 "nbformat": 4,
 "nbformat_minor": 2
}

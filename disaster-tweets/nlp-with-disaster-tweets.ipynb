{
 "cells": [
  {
   "cell_type": "code",
   "execution_count": 1,
   "id": "03b54301",
   "metadata": {
    "_cell_guid": "b1076dfc-b9ad-4769-8c92-a6c4dae69d19",
    "_uuid": "8f2839f25d086af736a60e9eeb907d3b93b6e0e5",
    "execution": {
     "iopub.execute_input": "2023-03-06T20:28:41.910491Z",
     "iopub.status.busy": "2023-03-06T20:28:41.909911Z",
     "iopub.status.idle": "2023-03-06T20:28:41.928496Z",
     "shell.execute_reply": "2023-03-06T20:28:41.926008Z"
    },
    "papermill": {
     "duration": 0.030586,
     "end_time": "2023-03-06T20:28:41.931639",
     "exception": false,
     "start_time": "2023-03-06T20:28:41.901053",
     "status": "completed"
    },
    "tags": []
   },
   "outputs": [
    {
     "name": "stdout",
     "output_type": "stream",
     "text": [
      "/kaggle/input/nlp-getting-started/sample_submission.csv\n",
      "/kaggle/input/nlp-getting-started/train.csv\n",
      "/kaggle/input/nlp-getting-started/test.csv\n"
     ]
    }
   ],
   "source": [
    "# This Python 3 environment comes with many helpful analytics libraries installed\n",
    "# It is defined by the kaggle/python Docker image: https://github.com/kaggle/docker-python\n",
    "# For example, here's several helpful packages to load\n",
    "\n",
    "import numpy as np # linear algebra\n",
    "import pandas as pd # data processing, CSV file I/O (e.g. pd.read_csv)\n",
    "\n",
    "# Input data files are available in the read-only \"../input/\" directory\n",
    "# For example, running this (by clicking run or pressing Shift+Enter) will list all files under the input directory\n",
    "\n",
    "import os\n",
    "for dirname, _, filenames in os.walk('/kaggle/input'):\n",
    "    for filename in filenames:\n",
    "        print(os.path.join(dirname, filename))\n",
    "\n",
    "# You can write up to 20GB to the current directory (/kaggle/working/) that gets preserved as output when you create a version using \"Save & Run All\" \n",
    "# You can also write temporary files to /kaggle/temp/, but they won't be saved outside of the current session"
   ]
  },
  {
   "cell_type": "code",
   "execution_count": 2,
   "id": "be737140",
   "metadata": {
    "execution": {
     "iopub.execute_input": "2023-03-06T20:28:41.944455Z",
     "iopub.status.busy": "2023-03-06T20:28:41.943907Z",
     "iopub.status.idle": "2023-03-06T20:28:43.430534Z",
     "shell.execute_reply": "2023-03-06T20:28:43.428921Z"
    },
    "papermill": {
     "duration": 1.497314,
     "end_time": "2023-03-06T20:28:43.434351",
     "exception": false,
     "start_time": "2023-03-06T20:28:41.937037",
     "status": "completed"
    },
    "tags": []
   },
   "outputs": [],
   "source": [
    "from sklearn import feature_extraction, linear_model, model_selection, preprocessing"
   ]
  },
  {
   "cell_type": "code",
   "execution_count": 3,
   "id": "04416a3d",
   "metadata": {
    "execution": {
     "iopub.execute_input": "2023-03-06T20:28:43.447954Z",
     "iopub.status.busy": "2023-03-06T20:28:43.447264Z",
     "iopub.status.idle": "2023-03-06T20:28:43.539184Z",
     "shell.execute_reply": "2023-03-06T20:28:43.537429Z"
    },
    "papermill": {
     "duration": 0.102631,
     "end_time": "2023-03-06T20:28:43.542396",
     "exception": false,
     "start_time": "2023-03-06T20:28:43.439765",
     "status": "completed"
    },
    "tags": []
   },
   "outputs": [],
   "source": [
    "train_data = pd.read_csv(\"/kaggle/input/nlp-getting-started/train.csv\")\n",
    "test_data = pd.read_csv(\"/kaggle/input/nlp-getting-started/test.csv\")"
   ]
  },
  {
   "cell_type": "code",
   "execution_count": 4,
   "id": "11ce8f34",
   "metadata": {
    "execution": {
     "iopub.execute_input": "2023-03-06T20:28:43.555535Z",
     "iopub.status.busy": "2023-03-06T20:28:43.554751Z",
     "iopub.status.idle": "2023-03-06T20:28:43.588384Z",
     "shell.execute_reply": "2023-03-06T20:28:43.587008Z"
    },
    "papermill": {
     "duration": 0.043288,
     "end_time": "2023-03-06T20:28:43.590963",
     "exception": false,
     "start_time": "2023-03-06T20:28:43.547675",
     "status": "completed"
    },
    "tags": []
   },
   "outputs": [
    {
     "data": {
      "text/html": [
       "<div>\n",
       "<style scoped>\n",
       "    .dataframe tbody tr th:only-of-type {\n",
       "        vertical-align: middle;\n",
       "    }\n",
       "\n",
       "    .dataframe tbody tr th {\n",
       "        vertical-align: top;\n",
       "    }\n",
       "\n",
       "    .dataframe thead th {\n",
       "        text-align: right;\n",
       "    }\n",
       "</style>\n",
       "<table border=\"1\" class=\"dataframe\">\n",
       "  <thead>\n",
       "    <tr style=\"text-align: right;\">\n",
       "      <th></th>\n",
       "      <th>id</th>\n",
       "      <th>keyword</th>\n",
       "      <th>location</th>\n",
       "      <th>text</th>\n",
       "      <th>target</th>\n",
       "    </tr>\n",
       "  </thead>\n",
       "  <tbody>\n",
       "    <tr>\n",
       "      <th>0</th>\n",
       "      <td>1</td>\n",
       "      <td>NaN</td>\n",
       "      <td>NaN</td>\n",
       "      <td>Our Deeds are the Reason of this #earthquake M...</td>\n",
       "      <td>1</td>\n",
       "    </tr>\n",
       "    <tr>\n",
       "      <th>1</th>\n",
       "      <td>4</td>\n",
       "      <td>NaN</td>\n",
       "      <td>NaN</td>\n",
       "      <td>Forest fire near La Ronge Sask. Canada</td>\n",
       "      <td>1</td>\n",
       "    </tr>\n",
       "    <tr>\n",
       "      <th>2</th>\n",
       "      <td>5</td>\n",
       "      <td>NaN</td>\n",
       "      <td>NaN</td>\n",
       "      <td>All residents asked to 'shelter in place' are ...</td>\n",
       "      <td>1</td>\n",
       "    </tr>\n",
       "    <tr>\n",
       "      <th>3</th>\n",
       "      <td>6</td>\n",
       "      <td>NaN</td>\n",
       "      <td>NaN</td>\n",
       "      <td>13,000 people receive #wildfires evacuation or...</td>\n",
       "      <td>1</td>\n",
       "    </tr>\n",
       "    <tr>\n",
       "      <th>4</th>\n",
       "      <td>7</td>\n",
       "      <td>NaN</td>\n",
       "      <td>NaN</td>\n",
       "      <td>Just got sent this photo from Ruby #Alaska as ...</td>\n",
       "      <td>1</td>\n",
       "    </tr>\n",
       "  </tbody>\n",
       "</table>\n",
       "</div>"
      ],
      "text/plain": [
       "   id keyword location                                               text  \\\n",
       "0   1     NaN      NaN  Our Deeds are the Reason of this #earthquake M...   \n",
       "1   4     NaN      NaN             Forest fire near La Ronge Sask. Canada   \n",
       "2   5     NaN      NaN  All residents asked to 'shelter in place' are ...   \n",
       "3   6     NaN      NaN  13,000 people receive #wildfires evacuation or...   \n",
       "4   7     NaN      NaN  Just got sent this photo from Ruby #Alaska as ...   \n",
       "\n",
       "   target  \n",
       "0       1  \n",
       "1       1  \n",
       "2       1  \n",
       "3       1  \n",
       "4       1  "
      ]
     },
     "execution_count": 4,
     "metadata": {},
     "output_type": "execute_result"
    }
   ],
   "source": [
    "train_data.head()"
   ]
  },
  {
   "cell_type": "code",
   "execution_count": 5,
   "id": "9c8287ca",
   "metadata": {
    "execution": {
     "iopub.execute_input": "2023-03-06T20:28:43.605294Z",
     "iopub.status.busy": "2023-03-06T20:28:43.603683Z",
     "iopub.status.idle": "2023-03-06T20:28:43.620656Z",
     "shell.execute_reply": "2023-03-06T20:28:43.619318Z"
    },
    "papermill": {
     "duration": 0.027371,
     "end_time": "2023-03-06T20:28:43.623968",
     "exception": false,
     "start_time": "2023-03-06T20:28:43.596597",
     "status": "completed"
    },
    "tags": []
   },
   "outputs": [
    {
     "data": {
      "text/plain": [
       "'I love fruits'"
      ]
     },
     "execution_count": 5,
     "metadata": {},
     "output_type": "execute_result"
    }
   ],
   "source": [
    "train_data[train_data[\"target\"]==0][\"text\"].values[1]"
   ]
  },
  {
   "cell_type": "code",
   "execution_count": 6,
   "id": "6daa1080",
   "metadata": {
    "execution": {
     "iopub.execute_input": "2023-03-06T20:28:43.637516Z",
     "iopub.status.busy": "2023-03-06T20:28:43.637032Z",
     "iopub.status.idle": "2023-03-06T20:28:43.649080Z",
     "shell.execute_reply": "2023-03-06T20:28:43.647505Z"
    },
    "papermill": {
     "duration": 0.022145,
     "end_time": "2023-03-06T20:28:43.652099",
     "exception": false,
     "start_time": "2023-03-06T20:28:43.629954",
     "status": "completed"
    },
    "tags": []
   },
   "outputs": [
    {
     "data": {
      "text/plain": [
       "'Forest fire near La Ronge Sask. Canada'"
      ]
     },
     "execution_count": 6,
     "metadata": {},
     "output_type": "execute_result"
    }
   ],
   "source": [
    "train_data[train_data[\"target\"]==1][\"text\"].values[1]"
   ]
  },
  {
   "cell_type": "code",
   "execution_count": 7,
   "id": "d7c832ab",
   "metadata": {
    "execution": {
     "iopub.execute_input": "2023-03-06T20:28:43.665493Z",
     "iopub.status.busy": "2023-03-06T20:28:43.664989Z",
     "iopub.status.idle": "2023-03-06T20:28:43.678411Z",
     "shell.execute_reply": "2023-03-06T20:28:43.676758Z"
    },
    "papermill": {
     "duration": 0.023953,
     "end_time": "2023-03-06T20:28:43.681617",
     "exception": false,
     "start_time": "2023-03-06T20:28:43.657664",
     "status": "completed"
    },
    "tags": []
   },
   "outputs": [],
   "source": [
    "count_vectorizer = feature_extraction.text.CountVectorizer()\n",
    "\n",
    "example_train_vectors = count_vectorizer.fit_transform(train_data[\"text\"][0:5])"
   ]
  },
  {
   "cell_type": "code",
   "execution_count": 8,
   "id": "873fd96c",
   "metadata": {
    "execution": {
     "iopub.execute_input": "2023-03-06T20:28:43.695947Z",
     "iopub.status.busy": "2023-03-06T20:28:43.694817Z",
     "iopub.status.idle": "2023-03-06T20:28:43.702718Z",
     "shell.execute_reply": "2023-03-06T20:28:43.700960Z"
    },
    "papermill": {
     "duration": 0.018971,
     "end_time": "2023-03-06T20:28:43.706276",
     "exception": false,
     "start_time": "2023-03-06T20:28:43.687305",
     "status": "completed"
    },
    "tags": []
   },
   "outputs": [
    {
     "name": "stdout",
     "output_type": "stream",
     "text": [
      "(1, 54)\n"
     ]
    }
   ],
   "source": [
    "print(example_train_vectors[0].todense().shape)"
   ]
  },
  {
   "cell_type": "code",
   "execution_count": 9,
   "id": "3b0e58ef",
   "metadata": {
    "execution": {
     "iopub.execute_input": "2023-03-06T20:28:43.720712Z",
     "iopub.status.busy": "2023-03-06T20:28:43.719963Z",
     "iopub.status.idle": "2023-03-06T20:28:43.728375Z",
     "shell.execute_reply": "2023-03-06T20:28:43.726969Z"
    },
    "papermill": {
     "duration": 0.019858,
     "end_time": "2023-03-06T20:28:43.732171",
     "exception": false,
     "start_time": "2023-03-06T20:28:43.712313",
     "status": "completed"
    },
    "tags": []
   },
   "outputs": [
    {
     "name": "stdout",
     "output_type": "stream",
     "text": [
      "[[0 0 0 1 1 1 0 0 0 0 0 0 1 1 0 0 0 0 1 0 0 0 0 0 0 1 0 0 0 1 0 0 0 0 1 0\n",
      "  0 0 0 1 0 0 0 0 0 0 0 0 0 1 1 0 1 0]]\n"
     ]
    }
   ],
   "source": [
    "print(example_train_vectors[0].todense())"
   ]
  },
  {
   "cell_type": "code",
   "execution_count": 10,
   "id": "be39ebac",
   "metadata": {
    "execution": {
     "iopub.execute_input": "2023-03-06T20:28:43.746178Z",
     "iopub.status.busy": "2023-03-06T20:28:43.745723Z",
     "iopub.status.idle": "2023-03-06T20:28:44.002394Z",
     "shell.execute_reply": "2023-03-06T20:28:44.000179Z"
    },
    "papermill": {
     "duration": 0.269173,
     "end_time": "2023-03-06T20:28:44.007260",
     "exception": false,
     "start_time": "2023-03-06T20:28:43.738087",
     "status": "completed"
    },
    "tags": []
   },
   "outputs": [],
   "source": [
    "train_vectors = count_vectorizer.fit_transform(train_data[\"text\"])\n",
    "test_vectors = count_vectorizer.transform(test_data[\"text\"])"
   ]
  },
  {
   "cell_type": "code",
   "execution_count": 11,
   "id": "e11f4047",
   "metadata": {
    "execution": {
     "iopub.execute_input": "2023-03-06T20:28:44.022418Z",
     "iopub.status.busy": "2023-03-06T20:28:44.021169Z",
     "iopub.status.idle": "2023-03-06T20:28:44.028000Z",
     "shell.execute_reply": "2023-03-06T20:28:44.026410Z"
    },
    "papermill": {
     "duration": 0.017486,
     "end_time": "2023-03-06T20:28:44.031019",
     "exception": false,
     "start_time": "2023-03-06T20:28:44.013533",
     "status": "completed"
    },
    "tags": []
   },
   "outputs": [],
   "source": [
    "clf = linear_model.RidgeClassifier()"
   ]
  },
  {
   "cell_type": "code",
   "execution_count": 12,
   "id": "c3dc6685",
   "metadata": {
    "execution": {
     "iopub.execute_input": "2023-03-06T20:28:44.045430Z",
     "iopub.status.busy": "2023-03-06T20:28:44.044931Z",
     "iopub.status.idle": "2023-03-06T20:28:44.635656Z",
     "shell.execute_reply": "2023-03-06T20:28:44.633921Z"
    },
    "papermill": {
     "duration": 0.603768,
     "end_time": "2023-03-06T20:28:44.640900",
     "exception": false,
     "start_time": "2023-03-06T20:28:44.037132",
     "status": "completed"
    },
    "tags": []
   },
   "outputs": [
    {
     "data": {
      "text/plain": [
       "array([0.59421842, 0.56498283, 0.64113893])"
      ]
     },
     "execution_count": 12,
     "metadata": {},
     "output_type": "execute_result"
    }
   ],
   "source": [
    "scores = model_selection.cross_val_score(clf, train_vectors, train_data['target'], cv=3, scoring='f1')\n",
    "scores"
   ]
  },
  {
   "cell_type": "code",
   "execution_count": 13,
   "id": "f6f5a8e0",
   "metadata": {
    "execution": {
     "iopub.execute_input": "2023-03-06T20:28:44.675960Z",
     "iopub.status.busy": "2023-03-06T20:28:44.675168Z",
     "iopub.status.idle": "2023-03-06T20:28:44.968535Z",
     "shell.execute_reply": "2023-03-06T20:28:44.966726Z"
    },
    "papermill": {
     "duration": 0.31798,
     "end_time": "2023-03-06T20:28:44.974714",
     "exception": false,
     "start_time": "2023-03-06T20:28:44.656734",
     "status": "completed"
    },
    "tags": []
   },
   "outputs": [],
   "source": [
    "clf.fit(train_vectors, train_data['target'])\n",
    "test_preds = clf.predict(test_vectors)"
   ]
  },
  {
   "cell_type": "code",
   "execution_count": 14,
   "id": "f8d47378",
   "metadata": {
    "execution": {
     "iopub.execute_input": "2023-03-06T20:28:45.010587Z",
     "iopub.status.busy": "2023-03-06T20:28:45.009825Z",
     "iopub.status.idle": "2023-03-06T20:28:45.024757Z",
     "shell.execute_reply": "2023-03-06T20:28:45.023065Z"
    },
    "papermill": {
     "duration": 0.03918,
     "end_time": "2023-03-06T20:28:45.030263",
     "exception": false,
     "start_time": "2023-03-06T20:28:44.991083",
     "status": "completed"
    },
    "tags": []
   },
   "outputs": [],
   "source": [
    "submission = pd.DataFrame({'id': test_data['id'], 'target':test_preds})"
   ]
  },
  {
   "cell_type": "code",
   "execution_count": 15,
   "id": "f44250f0",
   "metadata": {
    "execution": {
     "iopub.execute_input": "2023-03-06T20:28:45.063894Z",
     "iopub.status.busy": "2023-03-06T20:28:45.063051Z",
     "iopub.status.idle": "2023-03-06T20:28:45.092541Z",
     "shell.execute_reply": "2023-03-06T20:28:45.091454Z"
    },
    "papermill": {
     "duration": 0.050425,
     "end_time": "2023-03-06T20:28:45.095323",
     "exception": false,
     "start_time": "2023-03-06T20:28:45.044898",
     "status": "completed"
    },
    "tags": []
   },
   "outputs": [
    {
     "data": {
      "text/html": [
       "<div>\n",
       "<style scoped>\n",
       "    .dataframe tbody tr th:only-of-type {\n",
       "        vertical-align: middle;\n",
       "    }\n",
       "\n",
       "    .dataframe tbody tr th {\n",
       "        vertical-align: top;\n",
       "    }\n",
       "\n",
       "    .dataframe thead th {\n",
       "        text-align: right;\n",
       "    }\n",
       "</style>\n",
       "<table border=\"1\" class=\"dataframe\">\n",
       "  <thead>\n",
       "    <tr style=\"text-align: right;\">\n",
       "      <th></th>\n",
       "      <th>id</th>\n",
       "      <th>target</th>\n",
       "    </tr>\n",
       "  </thead>\n",
       "  <tbody>\n",
       "    <tr>\n",
       "      <th>0</th>\n",
       "      <td>0</td>\n",
       "      <td>0</td>\n",
       "    </tr>\n",
       "    <tr>\n",
       "      <th>1</th>\n",
       "      <td>2</td>\n",
       "      <td>1</td>\n",
       "    </tr>\n",
       "    <tr>\n",
       "      <th>2</th>\n",
       "      <td>3</td>\n",
       "      <td>1</td>\n",
       "    </tr>\n",
       "    <tr>\n",
       "      <th>3</th>\n",
       "      <td>9</td>\n",
       "      <td>0</td>\n",
       "    </tr>\n",
       "    <tr>\n",
       "      <th>4</th>\n",
       "      <td>11</td>\n",
       "      <td>1</td>\n",
       "    </tr>\n",
       "    <tr>\n",
       "      <th>...</th>\n",
       "      <td>...</td>\n",
       "      <td>...</td>\n",
       "    </tr>\n",
       "    <tr>\n",
       "      <th>3258</th>\n",
       "      <td>10861</td>\n",
       "      <td>1</td>\n",
       "    </tr>\n",
       "    <tr>\n",
       "      <th>3259</th>\n",
       "      <td>10865</td>\n",
       "      <td>1</td>\n",
       "    </tr>\n",
       "    <tr>\n",
       "      <th>3260</th>\n",
       "      <td>10868</td>\n",
       "      <td>1</td>\n",
       "    </tr>\n",
       "    <tr>\n",
       "      <th>3261</th>\n",
       "      <td>10874</td>\n",
       "      <td>1</td>\n",
       "    </tr>\n",
       "    <tr>\n",
       "      <th>3262</th>\n",
       "      <td>10875</td>\n",
       "      <td>0</td>\n",
       "    </tr>\n",
       "  </tbody>\n",
       "</table>\n",
       "<p>3263 rows × 2 columns</p>\n",
       "</div>"
      ],
      "text/plain": [
       "         id  target\n",
       "0         0       0\n",
       "1         2       1\n",
       "2         3       1\n",
       "3         9       0\n",
       "4        11       1\n",
       "...     ...     ...\n",
       "3258  10861       1\n",
       "3259  10865       1\n",
       "3260  10868       1\n",
       "3261  10874       1\n",
       "3262  10875       0\n",
       "\n",
       "[3263 rows x 2 columns]"
      ]
     },
     "execution_count": 15,
     "metadata": {},
     "output_type": "execute_result"
    }
   ],
   "source": [
    "submission"
   ]
  },
  {
   "cell_type": "code",
   "execution_count": 16,
   "id": "1ba34dd5",
   "metadata": {
    "execution": {
     "iopub.execute_input": "2023-03-06T20:28:45.112580Z",
     "iopub.status.busy": "2023-03-06T20:28:45.109731Z",
     "iopub.status.idle": "2023-03-06T20:28:45.128610Z",
     "shell.execute_reply": "2023-03-06T20:28:45.127064Z"
    },
    "papermill": {
     "duration": 0.030402,
     "end_time": "2023-03-06T20:28:45.132068",
     "exception": false,
     "start_time": "2023-03-06T20:28:45.101666",
     "status": "completed"
    },
    "tags": []
   },
   "outputs": [],
   "source": [
    "submission.to_csv('submission.csv', index=False)"
   ]
  },
  {
   "cell_type": "code",
   "execution_count": null,
   "id": "3c846339",
   "metadata": {
    "papermill": {
     "duration": 0.00547,
     "end_time": "2023-03-06T20:28:45.143512",
     "exception": false,
     "start_time": "2023-03-06T20:28:45.138042",
     "status": "completed"
    },
    "tags": []
   },
   "outputs": [],
   "source": []
  }
 ],
 "metadata": {
  "kernelspec": {
   "display_name": "Python 3",
   "language": "python",
   "name": "python3"
  },
  "language_info": {
   "codemirror_mode": {
    "name": "ipython",
    "version": 3
   },
   "file_extension": ".py",
   "mimetype": "text/x-python",
   "name": "python",
   "nbconvert_exporter": "python",
   "pygments_lexer": "ipython3",
   "version": "3.7.12"
  },
  "papermill": {
   "default_parameters": {},
   "duration": 16.08794,
   "end_time": "2023-03-06T20:28:46.076175",
   "environment_variables": {},
   "exception": null,
   "input_path": "__notebook__.ipynb",
   "output_path": "__notebook__.ipynb",
   "parameters": {},
   "start_time": "2023-03-06T20:28:29.988235",
   "version": "2.4.0"
  }
 },
 "nbformat": 4,
 "nbformat_minor": 5
}

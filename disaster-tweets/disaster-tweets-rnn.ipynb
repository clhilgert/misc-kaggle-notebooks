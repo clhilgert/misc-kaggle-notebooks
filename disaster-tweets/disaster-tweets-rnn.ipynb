{
 "cells": [
  {
   "cell_type": "code",
   "execution_count": 1,
   "id": "4b554377",
   "metadata": {
    "_cell_guid": "b1076dfc-b9ad-4769-8c92-a6c4dae69d19",
    "_uuid": "8f2839f25d086af736a60e9eeb907d3b93b6e0e5",
    "execution": {
     "iopub.execute_input": "2023-03-08T21:55:35.169571Z",
     "iopub.status.busy": "2023-03-08T21:55:35.168955Z",
     "iopub.status.idle": "2023-03-08T21:55:35.183522Z",
     "shell.execute_reply": "2023-03-08T21:55:35.182570Z"
    },
    "papermill": {
     "duration": 0.025523,
     "end_time": "2023-03-08T21:55:35.185887",
     "exception": false,
     "start_time": "2023-03-08T21:55:35.160364",
     "status": "completed"
    },
    "tags": []
   },
   "outputs": [
    {
     "name": "stdout",
     "output_type": "stream",
     "text": [
      "/kaggle/input/nlp-getting-started/sample_submission.csv\n",
      "/kaggle/input/nlp-getting-started/train.csv\n",
      "/kaggle/input/nlp-getting-started/test.csv\n"
     ]
    }
   ],
   "source": [
    "# This Python 3 environment comes with many helpful analytics libraries installed\n",
    "# It is defined by the kaggle/python Docker image: https://github.com/kaggle/docker-python\n",
    "# For example, here's several helpful packages to load\n",
    "\n",
    "import numpy as np # linear algebra\n",
    "import pandas as pd # data processing, CSV file I/O (e.g. pd.read_csv)\n",
    "\n",
    "# Input data files are available in the read-only \"../input/\" directory\n",
    "# For example, running this (by clicking run or pressing Shift+Enter) will list all files under the input directory\n",
    "\n",
    "import os\n",
    "for dirname, _, filenames in os.walk('/kaggle/input'):\n",
    "    for filename in filenames:\n",
    "        print(os.path.join(dirname, filename))\n",
    "\n",
    "# You can write up to 20GB to the current directory (/kaggle/working/) that gets preserved as output when you create a version using \"Save & Run All\" \n",
    "# You can also write temporary files to /kaggle/temp/, but they won't be saved outside of the current session"
   ]
  },
  {
   "cell_type": "code",
   "execution_count": 2,
   "id": "c7e80626",
   "metadata": {
    "execution": {
     "iopub.execute_input": "2023-03-08T21:55:35.199891Z",
     "iopub.status.busy": "2023-03-08T21:55:35.199531Z",
     "iopub.status.idle": "2023-03-08T21:55:36.292275Z",
     "shell.execute_reply": "2023-03-08T21:55:36.291110Z"
    },
    "papermill": {
     "duration": 1.102837,
     "end_time": "2023-03-08T21:55:36.295122",
     "exception": false,
     "start_time": "2023-03-08T21:55:35.192285",
     "status": "completed"
    },
    "tags": []
   },
   "outputs": [],
   "source": [
    "from sklearn import feature_extraction, linear_model, model_selection, preprocessing"
   ]
  },
  {
   "cell_type": "code",
   "execution_count": 3,
   "id": "d8bcf466",
   "metadata": {
    "execution": {
     "iopub.execute_input": "2023-03-08T21:55:36.308287Z",
     "iopub.status.busy": "2023-03-08T21:55:36.307960Z",
     "iopub.status.idle": "2023-03-08T21:55:36.362400Z",
     "shell.execute_reply": "2023-03-08T21:55:36.361056Z"
    },
    "papermill": {
     "duration": 0.063837,
     "end_time": "2023-03-08T21:55:36.364905",
     "exception": false,
     "start_time": "2023-03-08T21:55:36.301068",
     "status": "completed"
    },
    "tags": []
   },
   "outputs": [],
   "source": [
    "train_df = pd.read_csv(\"/kaggle/input/nlp-getting-started/train.csv\")\n",
    "test_df = pd.read_csv(\"/kaggle/input/nlp-getting-started/test.csv\")"
   ]
  },
  {
   "cell_type": "code",
   "execution_count": 4,
   "id": "d265f448",
   "metadata": {
    "execution": {
     "iopub.execute_input": "2023-03-08T21:55:36.378944Z",
     "iopub.status.busy": "2023-03-08T21:55:36.377603Z",
     "iopub.status.idle": "2023-03-08T21:55:36.401589Z",
     "shell.execute_reply": "2023-03-08T21:55:36.400930Z"
    },
    "papermill": {
     "duration": 0.033171,
     "end_time": "2023-03-08T21:55:36.404106",
     "exception": false,
     "start_time": "2023-03-08T21:55:36.370935",
     "status": "completed"
    },
    "tags": []
   },
   "outputs": [
    {
     "data": {
      "text/html": [
       "<div>\n",
       "<style scoped>\n",
       "    .dataframe tbody tr th:only-of-type {\n",
       "        vertical-align: middle;\n",
       "    }\n",
       "\n",
       "    .dataframe tbody tr th {\n",
       "        vertical-align: top;\n",
       "    }\n",
       "\n",
       "    .dataframe thead th {\n",
       "        text-align: right;\n",
       "    }\n",
       "</style>\n",
       "<table border=\"1\" class=\"dataframe\">\n",
       "  <thead>\n",
       "    <tr style=\"text-align: right;\">\n",
       "      <th></th>\n",
       "      <th>id</th>\n",
       "      <th>keyword</th>\n",
       "      <th>location</th>\n",
       "      <th>text</th>\n",
       "      <th>target</th>\n",
       "    </tr>\n",
       "  </thead>\n",
       "  <tbody>\n",
       "    <tr>\n",
       "      <th>0</th>\n",
       "      <td>1</td>\n",
       "      <td>NaN</td>\n",
       "      <td>NaN</td>\n",
       "      <td>Our Deeds are the Reason of this #earthquake M...</td>\n",
       "      <td>1</td>\n",
       "    </tr>\n",
       "    <tr>\n",
       "      <th>1</th>\n",
       "      <td>4</td>\n",
       "      <td>NaN</td>\n",
       "      <td>NaN</td>\n",
       "      <td>Forest fire near La Ronge Sask. Canada</td>\n",
       "      <td>1</td>\n",
       "    </tr>\n",
       "    <tr>\n",
       "      <th>2</th>\n",
       "      <td>5</td>\n",
       "      <td>NaN</td>\n",
       "      <td>NaN</td>\n",
       "      <td>All residents asked to 'shelter in place' are ...</td>\n",
       "      <td>1</td>\n",
       "    </tr>\n",
       "    <tr>\n",
       "      <th>3</th>\n",
       "      <td>6</td>\n",
       "      <td>NaN</td>\n",
       "      <td>NaN</td>\n",
       "      <td>13,000 people receive #wildfires evacuation or...</td>\n",
       "      <td>1</td>\n",
       "    </tr>\n",
       "    <tr>\n",
       "      <th>4</th>\n",
       "      <td>7</td>\n",
       "      <td>NaN</td>\n",
       "      <td>NaN</td>\n",
       "      <td>Just got sent this photo from Ruby #Alaska as ...</td>\n",
       "      <td>1</td>\n",
       "    </tr>\n",
       "  </tbody>\n",
       "</table>\n",
       "</div>"
      ],
      "text/plain": [
       "   id keyword location                                               text  \\\n",
       "0   1     NaN      NaN  Our Deeds are the Reason of this #earthquake M...   \n",
       "1   4     NaN      NaN             Forest fire near La Ronge Sask. Canada   \n",
       "2   5     NaN      NaN  All residents asked to 'shelter in place' are ...   \n",
       "3   6     NaN      NaN  13,000 people receive #wildfires evacuation or...   \n",
       "4   7     NaN      NaN  Just got sent this photo from Ruby #Alaska as ...   \n",
       "\n",
       "   target  \n",
       "0       1  \n",
       "1       1  \n",
       "2       1  \n",
       "3       1  \n",
       "4       1  "
      ]
     },
     "execution_count": 4,
     "metadata": {},
     "output_type": "execute_result"
    }
   ],
   "source": [
    "train_df.head()"
   ]
  },
  {
   "cell_type": "code",
   "execution_count": 5,
   "id": "63dfffb8",
   "metadata": {
    "execution": {
     "iopub.execute_input": "2023-03-08T21:55:36.418571Z",
     "iopub.status.busy": "2023-03-08T21:55:36.418190Z",
     "iopub.status.idle": "2023-03-08T21:55:36.430008Z",
     "shell.execute_reply": "2023-03-08T21:55:36.429090Z"
    },
    "papermill": {
     "duration": 0.022265,
     "end_time": "2023-03-08T21:55:36.432632",
     "exception": false,
     "start_time": "2023-03-08T21:55:36.410367",
     "status": "completed"
    },
    "tags": []
   },
   "outputs": [
    {
     "data": {
      "text/plain": [
       "'I love fruits'"
      ]
     },
     "execution_count": 5,
     "metadata": {},
     "output_type": "execute_result"
    }
   ],
   "source": [
    "train_df[train_df[\"target\"] == 0][\"text\"].values[1]"
   ]
  },
  {
   "cell_type": "code",
   "execution_count": 6,
   "id": "0780fcfa",
   "metadata": {
    "execution": {
     "iopub.execute_input": "2023-03-08T21:55:36.446190Z",
     "iopub.status.busy": "2023-03-08T21:55:36.445872Z",
     "iopub.status.idle": "2023-03-08T21:55:36.453413Z",
     "shell.execute_reply": "2023-03-08T21:55:36.452294Z"
    },
    "papermill": {
     "duration": 0.016444,
     "end_time": "2023-03-08T21:55:36.455309",
     "exception": false,
     "start_time": "2023-03-08T21:55:36.438865",
     "status": "completed"
    },
    "tags": []
   },
   "outputs": [
    {
     "data": {
      "text/plain": [
       "'Forest fire near La Ronge Sask. Canada'"
      ]
     },
     "execution_count": 6,
     "metadata": {},
     "output_type": "execute_result"
    }
   ],
   "source": [
    "train_df[train_df[\"target\"] == 1][\"text\"].values[1]"
   ]
  },
  {
   "cell_type": "code",
   "execution_count": 7,
   "id": "b81512d2",
   "metadata": {
    "execution": {
     "iopub.execute_input": "2023-03-08T21:55:36.469668Z",
     "iopub.status.busy": "2023-03-08T21:55:36.469078Z",
     "iopub.status.idle": "2023-03-08T21:55:36.477734Z",
     "shell.execute_reply": "2023-03-08T21:55:36.477051Z"
    },
    "papermill": {
     "duration": 0.018155,
     "end_time": "2023-03-08T21:55:36.479631",
     "exception": false,
     "start_time": "2023-03-08T21:55:36.461476",
     "status": "completed"
    },
    "tags": []
   },
   "outputs": [],
   "source": [
    "count_vectorizer = feature_extraction.text.CountVectorizer()\n",
    "\n",
    "example_train_vectors = count_vectorizer.fit_transform(train_df[\"text\"][0:5])"
   ]
  },
  {
   "cell_type": "code",
   "execution_count": 8,
   "id": "4d2e221d",
   "metadata": {
    "execution": {
     "iopub.execute_input": "2023-03-08T21:55:36.493572Z",
     "iopub.status.busy": "2023-03-08T21:55:36.493059Z",
     "iopub.status.idle": "2023-03-08T21:55:36.497828Z",
     "shell.execute_reply": "2023-03-08T21:55:36.496954Z"
    },
    "papermill": {
     "duration": 0.014092,
     "end_time": "2023-03-08T21:55:36.499938",
     "exception": false,
     "start_time": "2023-03-08T21:55:36.485846",
     "status": "completed"
    },
    "tags": []
   },
   "outputs": [
    {
     "name": "stdout",
     "output_type": "stream",
     "text": [
      "(1, 54)\n"
     ]
    }
   ],
   "source": [
    "print(example_train_vectors[0].todense().shape)"
   ]
  },
  {
   "cell_type": "code",
   "execution_count": 9,
   "id": "97cbb1ae",
   "metadata": {
    "execution": {
     "iopub.execute_input": "2023-03-08T21:55:36.513730Z",
     "iopub.status.busy": "2023-03-08T21:55:36.513187Z",
     "iopub.status.idle": "2023-03-08T21:55:36.518592Z",
     "shell.execute_reply": "2023-03-08T21:55:36.517604Z"
    },
    "papermill": {
     "duration": 0.014272,
     "end_time": "2023-03-08T21:55:36.520474",
     "exception": false,
     "start_time": "2023-03-08T21:55:36.506202",
     "status": "completed"
    },
    "tags": []
   },
   "outputs": [
    {
     "name": "stdout",
     "output_type": "stream",
     "text": [
      "[[0 0 0 1 1 1 0 0 0 0 0 0 1 1 0 0 0 0 1 0 0 0 0 0 0 1 0 0 0 1 0 0 0 0 1 0\n",
      "  0 0 0 1 0 0 0 0 0 0 0 0 0 1 1 0 1 0]]\n"
     ]
    }
   ],
   "source": [
    "print(example_train_vectors[0].todense())"
   ]
  },
  {
   "cell_type": "code",
   "execution_count": 10,
   "id": "ec6244d9",
   "metadata": {
    "execution": {
     "iopub.execute_input": "2023-03-08T21:55:36.534042Z",
     "iopub.status.busy": "2023-03-08T21:55:36.533299Z",
     "iopub.status.idle": "2023-03-08T21:55:36.706467Z",
     "shell.execute_reply": "2023-03-08T21:55:36.705444Z"
    },
    "papermill": {
     "duration": 0.182415,
     "end_time": "2023-03-08T21:55:36.708939",
     "exception": false,
     "start_time": "2023-03-08T21:55:36.526524",
     "status": "completed"
    },
    "tags": []
   },
   "outputs": [],
   "source": [
    "train_vectors = count_vectorizer.fit_transform(train_df[\"text\"])\n",
    "test_vectors = count_vectorizer.transform(test_df[\"text\"])"
   ]
  },
  {
   "cell_type": "code",
   "execution_count": 11,
   "id": "f231e570",
   "metadata": {
    "execution": {
     "iopub.execute_input": "2023-03-08T21:55:36.722518Z",
     "iopub.status.busy": "2023-03-08T21:55:36.722230Z",
     "iopub.status.idle": "2023-03-08T21:55:36.726423Z",
     "shell.execute_reply": "2023-03-08T21:55:36.725431Z"
    },
    "papermill": {
     "duration": 0.013764,
     "end_time": "2023-03-08T21:55:36.729034",
     "exception": false,
     "start_time": "2023-03-08T21:55:36.715270",
     "status": "completed"
    },
    "tags": []
   },
   "outputs": [],
   "source": [
    "clf = linear_model.RidgeClassifier()"
   ]
  },
  {
   "cell_type": "code",
   "execution_count": 12,
   "id": "19bbf4a7",
   "metadata": {
    "execution": {
     "iopub.execute_input": "2023-03-08T21:55:36.744315Z",
     "iopub.status.busy": "2023-03-08T21:55:36.743971Z",
     "iopub.status.idle": "2023-03-08T21:55:37.028215Z",
     "shell.execute_reply": "2023-03-08T21:55:37.027393Z"
    },
    "papermill": {
     "duration": 0.29414,
     "end_time": "2023-03-08T21:55:37.030659",
     "exception": false,
     "start_time": "2023-03-08T21:55:36.736519",
     "status": "completed"
    },
    "tags": []
   },
   "outputs": [
    {
     "data": {
      "text/plain": [
       "array([0.59421842, 0.56498283, 0.64113893])"
      ]
     },
     "execution_count": 12,
     "metadata": {},
     "output_type": "execute_result"
    }
   ],
   "source": [
    "scores = model_selection.cross_val_score(clf, train_vectors, train_df[\"target\"], cv=3, scoring='f1')\n",
    "scores"
   ]
  },
  {
   "cell_type": "markdown",
   "id": "e6599dff",
   "metadata": {
    "papermill": {
     "duration": 0.007832,
     "end_time": "2023-03-08T21:55:37.047189",
     "exception": false,
     "start_time": "2023-03-08T21:55:37.039357",
     "status": "completed"
    },
    "tags": []
   },
   "source": [
    "### RNN"
   ]
  },
  {
   "cell_type": "code",
   "execution_count": 13,
   "id": "15264047",
   "metadata": {
    "execution": {
     "iopub.execute_input": "2023-03-08T21:55:37.065979Z",
     "iopub.status.busy": "2023-03-08T21:55:37.065463Z",
     "iopub.status.idle": "2023-03-08T21:55:44.965403Z",
     "shell.execute_reply": "2023-03-08T21:55:44.964495Z"
    },
    "papermill": {
     "duration": 7.911634,
     "end_time": "2023-03-08T21:55:44.967717",
     "exception": false,
     "start_time": "2023-03-08T21:55:37.056083",
     "status": "completed"
    },
    "tags": []
   },
   "outputs": [],
   "source": [
    "import tensorflow as tf\n",
    "from tensorflow import keras\n",
    "from tensorflow.keras import layers\n",
    "from tensorflow.keras.layers import Embedding, SimpleRNN, Dense\n",
    "from tensorflow.keras.preprocessing.text import Tokenizer\n",
    "from tensorflow.keras.preprocessing.sequence import pad_sequences"
   ]
  },
  {
   "cell_type": "code",
   "execution_count": 14,
   "id": "dce808d7",
   "metadata": {
    "execution": {
     "iopub.execute_input": "2023-03-08T21:55:44.982308Z",
     "iopub.status.busy": "2023-03-08T21:55:44.981201Z",
     "iopub.status.idle": "2023-03-08T21:55:44.999983Z",
     "shell.execute_reply": "2023-03-08T21:55:44.999050Z"
    },
    "papermill": {
     "duration": 0.028806,
     "end_time": "2023-03-08T21:55:45.002848",
     "exception": false,
     "start_time": "2023-03-08T21:55:44.974042",
     "status": "completed"
    },
    "tags": []
   },
   "outputs": [],
   "source": [
    "vocab_size = 10000\n",
    "embedding_size = 100\n",
    "max_length = 100\n",
    "embedding_layer = Embedding(input_dim=vocab_size,\n",
    "                            output_dim=embedding_size,\n",
    "                            input_length=max_length)"
   ]
  },
  {
   "cell_type": "code",
   "execution_count": 15,
   "id": "f0c5ed66",
   "metadata": {
    "execution": {
     "iopub.execute_input": "2023-03-08T21:55:45.018064Z",
     "iopub.status.busy": "2023-03-08T21:55:45.017660Z",
     "iopub.status.idle": "2023-03-08T21:55:45.625382Z",
     "shell.execute_reply": "2023-03-08T21:55:45.623738Z"
    },
    "papermill": {
     "duration": 0.618154,
     "end_time": "2023-03-08T21:55:45.627962",
     "exception": false,
     "start_time": "2023-03-08T21:55:45.009808",
     "status": "completed"
    },
    "tags": []
   },
   "outputs": [],
   "source": [
    "tokenizer = Tokenizer(num_words=vocab_size)\n",
    "tokenizer.fit_on_texts(train_df[\"text\"])\n",
    "train_sequences = tokenizer.texts_to_sequences(train_df[\"text\"])\n",
    "test_sequences = tokenizer.texts_to_sequences(test_df[\"text\"])"
   ]
  },
  {
   "cell_type": "code",
   "execution_count": 16,
   "id": "d045c8ac",
   "metadata": {
    "execution": {
     "iopub.execute_input": "2023-03-08T21:55:45.641744Z",
     "iopub.status.busy": "2023-03-08T21:55:45.641402Z",
     "iopub.status.idle": "2023-03-08T21:55:45.679256Z",
     "shell.execute_reply": "2023-03-08T21:55:45.677623Z"
    },
    "papermill": {
     "duration": 0.047427,
     "end_time": "2023-03-08T21:55:45.681728",
     "exception": false,
     "start_time": "2023-03-08T21:55:45.634301",
     "status": "completed"
    },
    "tags": []
   },
   "outputs": [],
   "source": [
    "train_sequences_padded = pad_sequences(train_sequences, maxlen=max_length, padding='post')\n",
    "test_sequences_padded = pad_sequences(test_sequences, maxlen=max_length, padding='post')"
   ]
  },
  {
   "cell_type": "code",
   "execution_count": 17,
   "id": "d8295ac1",
   "metadata": {
    "execution": {
     "iopub.execute_input": "2023-03-08T21:55:45.695807Z",
     "iopub.status.busy": "2023-03-08T21:55:45.695428Z",
     "iopub.status.idle": "2023-03-08T21:55:45.937722Z",
     "shell.execute_reply": "2023-03-08T21:55:45.936745Z"
    },
    "papermill": {
     "duration": 0.253119,
     "end_time": "2023-03-08T21:55:45.941257",
     "exception": false,
     "start_time": "2023-03-08T21:55:45.688138",
     "status": "completed"
    },
    "tags": []
   },
   "outputs": [],
   "source": [
    "model = tf.keras.Sequential([\n",
    "    embedding_layer,\n",
    "    SimpleRNN(32),\n",
    "    Dense(1, activation='sigmoid')\n",
    "])"
   ]
  },
  {
   "cell_type": "code",
   "execution_count": 18,
   "id": "de87738b",
   "metadata": {
    "execution": {
     "iopub.execute_input": "2023-03-08T21:55:45.956423Z",
     "iopub.status.busy": "2023-03-08T21:55:45.956001Z",
     "iopub.status.idle": "2023-03-08T21:56:14.300759Z",
     "shell.execute_reply": "2023-03-08T21:56:14.299766Z"
    },
    "papermill": {
     "duration": 28.35516,
     "end_time": "2023-03-08T21:56:14.303074",
     "exception": false,
     "start_time": "2023-03-08T21:55:45.947914",
     "status": "completed"
    },
    "tags": []
   },
   "outputs": [
    {
     "name": "stdout",
     "output_type": "stream",
     "text": [
      "Epoch 1/5\n",
      "238/238 [==============================] - 7s 23ms/step - loss: 0.6119 - accuracy: 0.6782\n",
      "Epoch 2/5\n",
      "238/238 [==============================] - 5s 23ms/step - loss: 0.4539 - accuracy: 0.8144\n",
      "Epoch 3/5\n",
      "238/238 [==============================] - 5s 23ms/step - loss: 0.3667 - accuracy: 0.8542\n",
      "Epoch 4/5\n",
      "238/238 [==============================] - 5s 22ms/step - loss: 0.3006 - accuracy: 0.8844\n",
      "Epoch 5/5\n",
      "238/238 [==============================] - 5s 22ms/step - loss: 0.2357 - accuracy: 0.9105\n"
     ]
    },
    {
     "data": {
      "text/plain": [
       "<keras.callbacks.History at 0x7f51f039e190>"
      ]
     },
     "execution_count": 18,
     "metadata": {},
     "output_type": "execute_result"
    }
   ],
   "source": [
    "model.compile(loss='binary_crossentropy', optimizer='adam', metrics=['accuracy'])\n",
    "model.fit(train_sequences_padded, train_df['target'], epochs=5, batch_size=32)"
   ]
  },
  {
   "cell_type": "code",
   "execution_count": 19,
   "id": "b119bfae",
   "metadata": {
    "execution": {
     "iopub.execute_input": "2023-03-08T21:56:14.364947Z",
     "iopub.status.busy": "2023-03-08T21:56:14.364322Z",
     "iopub.status.idle": "2023-03-08T21:56:15.169813Z",
     "shell.execute_reply": "2023-03-08T21:56:15.168638Z"
    },
    "papermill": {
     "duration": 0.839272,
     "end_time": "2023-03-08T21:56:15.172458",
     "exception": false,
     "start_time": "2023-03-08T21:56:14.333186",
     "status": "completed"
    },
    "tags": []
   },
   "outputs": [
    {
     "name": "stdout",
     "output_type": "stream",
     "text": [
      "102/102 [==============================] - 1s 6ms/step\n"
     ]
    }
   ],
   "source": [
    "pred = model.predict(test_sequences_padded)"
   ]
  },
  {
   "cell_type": "code",
   "execution_count": 20,
   "id": "812e5462",
   "metadata": {
    "execution": {
     "iopub.execute_input": "2023-03-08T21:56:15.237346Z",
     "iopub.status.busy": "2023-03-08T21:56:15.235833Z",
     "iopub.status.idle": "2023-03-08T21:56:15.243071Z",
     "shell.execute_reply": "2023-03-08T21:56:15.241844Z"
    },
    "papermill": {
     "duration": 0.042563,
     "end_time": "2023-03-08T21:56:15.245360",
     "exception": false,
     "start_time": "2023-03-08T21:56:15.202797",
     "status": "completed"
    },
    "tags": []
   },
   "outputs": [
    {
     "data": {
      "text/plain": [
       "(3263, 1)"
      ]
     },
     "execution_count": 20,
     "metadata": {},
     "output_type": "execute_result"
    }
   ],
   "source": [
    "pred.shape"
   ]
  },
  {
   "cell_type": "code",
   "execution_count": 21,
   "id": "3952ab89",
   "metadata": {
    "execution": {
     "iopub.execute_input": "2023-03-08T21:56:15.308463Z",
     "iopub.status.busy": "2023-03-08T21:56:15.307922Z",
     "iopub.status.idle": "2023-03-08T21:56:15.312258Z",
     "shell.execute_reply": "2023-03-08T21:56:15.311560Z"
    },
    "papermill": {
     "duration": 0.037769,
     "end_time": "2023-03-08T21:56:15.314063",
     "exception": false,
     "start_time": "2023-03-08T21:56:15.276294",
     "status": "completed"
    },
    "tags": []
   },
   "outputs": [],
   "source": [
    "pred = pred[:,0]"
   ]
  },
  {
   "cell_type": "code",
   "execution_count": 22,
   "id": "0daf8b62",
   "metadata": {
    "execution": {
     "iopub.execute_input": "2023-03-08T21:56:15.376496Z",
     "iopub.status.busy": "2023-03-08T21:56:15.375900Z",
     "iopub.status.idle": "2023-03-08T21:56:15.382155Z",
     "shell.execute_reply": "2023-03-08T21:56:15.381403Z"
    },
    "papermill": {
     "duration": 0.039826,
     "end_time": "2023-03-08T21:56:15.384065",
     "exception": false,
     "start_time": "2023-03-08T21:56:15.344239",
     "status": "completed"
    },
    "tags": []
   },
   "outputs": [
    {
     "data": {
      "text/plain": [
       "array([0.463321  , 0.38027593, 0.6462529 , ..., 0.7705619 , 0.8710564 ,\n",
       "       0.8972658 ], dtype=float32)"
      ]
     },
     "execution_count": 22,
     "metadata": {},
     "output_type": "execute_result"
    }
   ],
   "source": [
    "pred"
   ]
  },
  {
   "cell_type": "code",
   "execution_count": 23,
   "id": "ff0e330f",
   "metadata": {
    "execution": {
     "iopub.execute_input": "2023-03-08T21:56:15.446552Z",
     "iopub.status.busy": "2023-03-08T21:56:15.445980Z",
     "iopub.status.idle": "2023-03-08T21:56:15.450503Z",
     "shell.execute_reply": "2023-03-08T21:56:15.449868Z"
    },
    "papermill": {
     "duration": 0.038081,
     "end_time": "2023-03-08T21:56:15.452408",
     "exception": false,
     "start_time": "2023-03-08T21:56:15.414327",
     "status": "completed"
    },
    "tags": []
   },
   "outputs": [],
   "source": [
    "threshold = 0.5\n",
    "binary_pred = (pred >= threshold).astype(int)"
   ]
  },
  {
   "cell_type": "code",
   "execution_count": 24,
   "id": "28c5e035",
   "metadata": {
    "execution": {
     "iopub.execute_input": "2023-03-08T21:56:15.515129Z",
     "iopub.status.busy": "2023-03-08T21:56:15.514488Z",
     "iopub.status.idle": "2023-03-08T21:56:15.528621Z",
     "shell.execute_reply": "2023-03-08T21:56:15.527838Z"
    },
    "papermill": {
     "duration": 0.048239,
     "end_time": "2023-03-08T21:56:15.530862",
     "exception": false,
     "start_time": "2023-03-08T21:56:15.482623",
     "status": "completed"
    },
    "tags": []
   },
   "outputs": [],
   "source": [
    "output_df = pd.DataFrame({'id': test_df['id'], 'target': binary_pred})\n",
    "output_df.to_csv('submission.csv', index=False)"
   ]
  },
  {
   "cell_type": "code",
   "execution_count": null,
   "id": "52d75621",
   "metadata": {
    "papermill": {
     "duration": 0.030364,
     "end_time": "2023-03-08T21:56:15.591964",
     "exception": false,
     "start_time": "2023-03-08T21:56:15.561600",
     "status": "completed"
    },
    "tags": []
   },
   "outputs": [],
   "source": []
  }
 ],
 "metadata": {
  "kernelspec": {
   "display_name": "Python 3",
   "language": "python",
   "name": "python3"
  },
  "language_info": {
   "codemirror_mode": {
    "name": "ipython",
    "version": 3
   },
   "file_extension": ".py",
   "mimetype": "text/x-python",
   "name": "python",
   "nbconvert_exporter": "python",
   "pygments_lexer": "ipython3",
   "version": "3.7.12"
  },
  "papermill": {
   "default_parameters": {},
   "duration": 53.931967,
   "end_time": "2023-03-08T21:56:19.229485",
   "environment_variables": {},
   "exception": null,
   "input_path": "__notebook__.ipynb",
   "output_path": "__notebook__.ipynb",
   "parameters": {},
   "start_time": "2023-03-08T21:55:25.297518",
   "version": "2.4.0"
  }
 },
 "nbformat": 4,
 "nbformat_minor": 5
}
